{
 "cells": [
  {
   "cell_type": "markdown",
   "metadata": {},
   "source": [
    "# This is the main script for the Author classification on the Enron email database project"
   ]
  },
  {
   "cell_type": "code",
   "execution_count": 2,
   "metadata": {},
   "outputs": [
    {
     "name": "stderr",
     "output_type": "stream",
     "text": [
      "/Users/jingqin/venv3/lib/python3.6/site-packages/sklearn/cross_validation.py:41: DeprecationWarning: This module was deprecated in version 0.18 in favor of the model_selection module into which all the refactored classes and functions are moved. Also note that the interface of the new CV iterators are different from that of this module. This module will be removed in 0.20.\n",
      "  \"This module will be removed in 0.20.\", DeprecationWarning)\n"
     ]
    }
   ],
   "source": [
    "import os\n",
    "import sys\n",
    "import random\n",
    "from collections import Counter\n",
    "from string import punctuation\n",
    "\n",
    "import numpy as np\n",
    "import pandas as pd\n",
    "import seaborn as sns \n",
    "import matplotlib.pyplot as plt \n",
    "%matplotlib inline\n",
    "\n",
    "import email\n",
    "import statistics\n",
    "\n",
    "import nltk\n",
    "from nltk.sentiment.vader import SentimentIntensityAnalyzer\n",
    "import spacy\n",
    "\n",
    "import emot\n",
    "from wordcloud import WordCloud, STOPWORDS\n",
    "\n",
    "# machine learning\n",
    "from sklearn import cross_validation\n",
    "from sklearn.model_selection import cross_val_score\n",
    "from sklearn import svm\n",
    "from sklearn.cross_validation import train_test_split\n",
    "from sklearn.preprocessing import StandardScaler\n",
    "from sklearn.preprocessing import minmax_scale\n",
    "from sklearn.metrics import accuracy_score\n",
    "from sklearn import preprocessing\n",
    "from sklearn.preprocessing import label_binarize\n",
    "from sklearn.ensemble import RandomForestClassifier\n",
    "from sklearn.neighbors import KNeighborsClassifier"
   ]
  },
  {
   "cell_type": "markdown",
   "metadata": {},
   "source": [
    "### preload nlp in English mode"
   ]
  },
  {
   "cell_type": "code",
   "execution_count": 7,
   "metadata": {
    "collapsed": true
   },
   "outputs": [],
   "source": [
    "nlp = spacy.load('en')"
   ]
  },
  {
   "cell_type": "markdown",
   "metadata": {},
   "source": [
    "### feature.py and extract_email_info.py are writen by my self contain help functions.\n"
   ]
  },
  {
   "cell_type": "code",
   "execution_count": 8,
   "metadata": {
    "collapsed": true
   },
   "outputs": [],
   "source": [
    "import features\n",
    "import extract_email_info "
   ]
  },
  {
   "cell_type": "markdown",
   "metadata": {
    "collapsed": true
   },
   "source": [
    "## Collect data\n",
    "- Data is download from Kaggle website <https://www.kaggle.com/wcukierski/enron-email-dataset> saved in data folder\n",
    "- Read the data into a DataFrame\n"
   ]
  },
  {
   "cell_type": "code",
   "execution_count": 9,
   "metadata": {
    "scrolled": true
   },
   "outputs": [
    {
     "data": {
      "text/html": [
       "<div>\n",
       "<style scoped>\n",
       "    .dataframe tbody tr th:only-of-type {\n",
       "        vertical-align: middle;\n",
       "    }\n",
       "\n",
       "    .dataframe tbody tr th {\n",
       "        vertical-align: top;\n",
       "    }\n",
       "\n",
       "    .dataframe thead th {\n",
       "        text-align: right;\n",
       "    }\n",
       "</style>\n",
       "<table border=\"1\" class=\"dataframe\">\n",
       "  <thead>\n",
       "    <tr style=\"text-align: right;\">\n",
       "      <th></th>\n",
       "      <th>file</th>\n",
       "      <th>message</th>\n",
       "    </tr>\n",
       "  </thead>\n",
       "  <tbody>\n",
       "    <tr>\n",
       "      <th>0</th>\n",
       "      <td>allen-p/_sent_mail/1.</td>\n",
       "      <td>Message-ID: &lt;18782981.1075855378110.JavaMail.e...</td>\n",
       "    </tr>\n",
       "  </tbody>\n",
       "</table>\n",
       "</div>"
      ],
      "text/plain": [
       "                    file                                            message\n",
       "0  allen-p/_sent_mail/1.  Message-ID: <18782981.1075855378110.JavaMail.e..."
      ]
     },
     "execution_count": 9,
     "metadata": {},
     "output_type": "execute_result"
    }
   ],
   "source": [
    "emails_df = pd.read_csv('../data/emails.csv')\n",
    "emails_df.head(1)"
   ]
  },
  {
   "cell_type": "markdown",
   "metadata": {},
   "source": [
    "### There are only 2 columns in the dataframe, all information we will need cotained in the message column."
   ]
  },
  {
   "cell_type": "markdown",
   "metadata": {},
   "source": [
    "## Message analysis"
   ]
  },
  {
   "cell_type": "markdown",
   "metadata": {},
   "source": [
    "### Using Email Module to analysis email messages.\n",
    "- from Kaggle JayKrishna 's Kernel: Topic Modeling Enron Email Dataset. \n",
    "- **takes around 10 mins**"
   ]
  },
  {
   "cell_type": "code",
   "execution_count": 10,
   "metadata": {},
   "outputs": [
    {
     "data": {
      "text/html": [
       "<div>\n",
       "<style scoped>\n",
       "    .dataframe tbody tr th:only-of-type {\n",
       "        vertical-align: middle;\n",
       "    }\n",
       "\n",
       "    .dataframe tbody tr th {\n",
       "        vertical-align: top;\n",
       "    }\n",
       "\n",
       "    .dataframe thead th {\n",
       "        text-align: right;\n",
       "    }\n",
       "</style>\n",
       "<table border=\"1\" class=\"dataframe\">\n",
       "  <thead>\n",
       "    <tr style=\"text-align: right;\">\n",
       "      <th></th>\n",
       "      <th>file</th>\n",
       "      <th>Message-ID</th>\n",
       "      <th>Date</th>\n",
       "      <th>From</th>\n",
       "      <th>To</th>\n",
       "      <th>Subject</th>\n",
       "      <th>Mime-Version</th>\n",
       "      <th>Content-Type</th>\n",
       "      <th>Content-Transfer-Encoding</th>\n",
       "      <th>X-From</th>\n",
       "      <th>X-To</th>\n",
       "      <th>X-cc</th>\n",
       "      <th>X-bcc</th>\n",
       "      <th>X-Folder</th>\n",
       "      <th>X-Origin</th>\n",
       "      <th>X-FileName</th>\n",
       "      <th>content</th>\n",
       "      <th>user</th>\n",
       "    </tr>\n",
       "  </thead>\n",
       "  <tbody>\n",
       "    <tr>\n",
       "      <th>0</th>\n",
       "      <td>allen-p/_sent_mail/1.</td>\n",
       "      <td>&lt;18782981.1075855378110.JavaMail.evans@thyme&gt;</td>\n",
       "      <td>Mon, 14 May 2001 16:39:00 -0700 (PDT)</td>\n",
       "      <td>(phillip.allen@enron.com)</td>\n",
       "      <td>(tim.belden@enron.com)</td>\n",
       "      <td></td>\n",
       "      <td>1.0</td>\n",
       "      <td>text/plain; charset=us-ascii</td>\n",
       "      <td>7bit</td>\n",
       "      <td>Phillip K Allen</td>\n",
       "      <td>Tim Belden &lt;Tim Belden/Enron@EnronXGate&gt;</td>\n",
       "      <td></td>\n",
       "      <td></td>\n",
       "      <td>\\Phillip_Allen_Jan2002_1\\Allen, Phillip K.\\'Se...</td>\n",
       "      <td>Allen-P</td>\n",
       "      <td>pallen (Non-Privileged).pst</td>\n",
       "      <td>Here is our forecast\\n\\n</td>\n",
       "      <td>allen-p</td>\n",
       "    </tr>\n",
       "  </tbody>\n",
       "</table>\n",
       "</div>"
      ],
      "text/plain": [
       "                    file                                     Message-ID  \\\n",
       "0  allen-p/_sent_mail/1.  <18782981.1075855378110.JavaMail.evans@thyme>   \n",
       "\n",
       "                                    Date                       From  \\\n",
       "0  Mon, 14 May 2001 16:39:00 -0700 (PDT)  (phillip.allen@enron.com)   \n",
       "\n",
       "                       To Subject Mime-Version                  Content-Type  \\\n",
       "0  (tim.belden@enron.com)                  1.0  text/plain; charset=us-ascii   \n",
       "\n",
       "  Content-Transfer-Encoding           X-From  \\\n",
       "0                      7bit  Phillip K Allen   \n",
       "\n",
       "                                       X-To X-cc X-bcc  \\\n",
       "0  Tim Belden <Tim Belden/Enron@EnronXGate>              \n",
       "\n",
       "                                            X-Folder X-Origin  \\\n",
       "0  \\Phillip_Allen_Jan2002_1\\Allen, Phillip K.\\'Se...  Allen-P   \n",
       "\n",
       "                    X-FileName                    content     user  \n",
       "0  pallen (Non-Privileged).pst  Here is our forecast\\n\\n   allen-p  "
      ]
     },
     "execution_count": 10,
     "metadata": {},
     "output_type": "execute_result"
    }
   ],
   "source": [
    "# N.B. emails_df is modified inplace\n",
    "extract_email_info.extract_info(emails_df)\n",
    "emails_df.head(1)"
   ]
  },
  {
   "cell_type": "markdown",
   "metadata": {},
   "source": [
    "### To avoid repeat computation, store result dataframe to csv file."
   ]
  },
  {
   "cell_type": "code",
   "execution_count": null,
   "metadata": {
    "collapsed": true
   },
   "outputs": [],
   "source": [
    "# comment it out. One time running needs 20 mins\n",
    "# emails_df.to_csv(\"../data/email_info.csv\", index=False)"
   ]
  },
  {
   "cell_type": "markdown",
   "metadata": {},
   "source": [
    "## Understand Data"
   ]
  },
  {
   "cell_type": "markdown",
   "metadata": {},
   "source": [
    "#### Check how data are distributed"
   ]
  },
  {
   "cell_type": "code",
   "execution_count": 11,
   "metadata": {
    "scrolled": true
   },
   "outputs": [
    {
     "data": {
      "text/plain": [
       "count         517401\n",
       "unique           150\n",
       "top       kaminski-v\n",
       "freq           28465\n",
       "Name: user, dtype: object"
      ]
     },
     "execution_count": 11,
     "metadata": {},
     "output_type": "execute_result"
    }
   ],
   "source": [
    "emails_df[\"user\"].describe()"
   ]
  },
  {
   "cell_type": "markdown",
   "metadata": {},
   "source": [
    "### Here, I see 150 different users. Let's check how many emails they send"
   ]
  },
  {
   "cell_type": "code",
   "execution_count": 29,
   "metadata": {
    "scrolled": true
   },
   "outputs": [
    {
     "data": {
      "text/plain": [
       "user\n",
       "allen-p            3034\n",
       "arnold-j           4898\n",
       "arora-h             654\n",
       "badeer-r            877\n",
       "bailey-s            478\n",
       "bass-e             7823\n",
       "baughman-d         2760\n",
       "beck-s            11830\n",
       "benson-r            767\n",
       "blair-l            3415\n",
       "brawner-s          1026\n",
       "buy-r              2429\n",
       "campbell-l         6490\n",
       "carson-m           1400\n",
       "cash-m             2969\n",
       "causholli-m         943\n",
       "corman-s           2025\n",
       "crandell-s          519\n",
       "cuilla-m           1029\n",
       "dasovich-j        28234\n",
       "davis-d            2249\n",
       "dean-c             2429\n",
       "delainey-d         3566\n",
       "derrick-j          1766\n",
       "dickson-s           395\n",
       "donoho-l           1045\n",
       "donohoe-t          1015\n",
       "dorland-c          2127\n",
       "ermis-f            1230\n",
       "farmer-d          13032\n",
       "                  ...  \n",
       "smith-m            1642\n",
       "solberg-g          1081\n",
       "south-s             248\n",
       "staab-t             621\n",
       "stclair-c          3030\n",
       "steffes-j          3331\n",
       "stepenovitch-j     1227\n",
       "stokley-c          1252\n",
       "storey-g           1027\n",
       "sturm-f            1169\n",
       "swerzbin-m          355\n",
       "symes-k           10827\n",
       "taylor-m          13875\n",
       "tholt-j            1885\n",
       "thomas-p           1293\n",
       "townsend-j          646\n",
       "tycholiz-b         1219\n",
       "ward-k             2611\n",
       "watson-k           2950\n",
       "weldon-c           1566\n",
       "whalley-g          1878\n",
       "whalley-l          3335\n",
       "white-s            3272\n",
       "whitt-m             807\n",
       "williams-j         1213\n",
       "williams-w3        3440\n",
       "wolfe-j            1587\n",
       "ybarbo-p           1291\n",
       "zipper-a           1563\n",
       "zufferli-j          557\n",
       "Name: From, Length: 150, dtype: int64"
      ]
     },
     "execution_count": 29,
     "metadata": {},
     "output_type": "execute_result"
    }
   ],
   "source": [
    "emails_df.groupby(['user']).count()['From']"
   ]
  },
  {
   "cell_type": "markdown",
   "metadata": {},
   "source": [
    "#### We see the number of \"users\" are not the same number of \"froms\", which means they are using multiple email addresses\n",
    "#### Now, have a look at the different email addresses are used by one user "
   ]
  },
  {
   "cell_type": "code",
   "execution_count": 55,
   "metadata": {},
   "outputs": [
    {
     "data": {
      "text/plain": [
       "array([frozenset({'dhunter@smithandkempton.com'}),\n",
       "       frozenset({'perfmgmt@enron.com'}),\n",
       "       frozenset({'paul.kaufman@enron.com'}), ...,\n",
       "       frozenset({'chris.dcouto@novellus.com'}),\n",
       "       frozenset({'dgrueneich@gralegal.com'}), frozenset({'pds6@pge.com'})], dtype=object)"
      ]
     },
     "execution_count": 55,
     "metadata": {},
     "output_type": "execute_result"
    }
   ],
   "source": [
    "emails_df.loc[emails_df['user'] == \"dasovich-j\", 'From'].unique()"
   ]
  },
  {
   "cell_type": "markdown",
   "metadata": {},
   "source": [
    "#### Here I would like to plot the distribution of the number of emails "
   ]
  },
  {
   "cell_type": "code",
   "execution_count": 13,
   "metadata": {},
   "outputs": [
    {
     "data": {
      "image/png": "[encoded data removed]",
      "text/plain": [
       "<matplotlib.figure.Figure at 0x10367f898>"
      ]
     },
     "metadata": {},
     "output_type": "display_data"
    }
   ],
   "source": [
    "ax = sns.countplot(x='user', data=emails_df, order = emails_df['user'].value_counts().index)\n",
    "ax.set(xticklabels=[])\n",
    "plt.show()"
   ]
  },
  {
   "cell_type": "markdown",
   "metadata": {},
   "source": [
    "### The dataset is too big for us, also 150 users is too much for classification, we will decrease the size of dataset"
   ]
  },
  {
   "cell_type": "markdown",
   "metadata": {},
   "source": [
    "### Let's see how many people send more than 10000 emials, and how many emails did they send in total."
   ]
  },
  {
   "cell_type": "code",
   "execution_count": 56,
   "metadata": {
    "scrolled": true
   },
   "outputs": [
    {
     "name": "stdout",
     "output_type": "stream",
     "text": [
      "Nr of people who send more than 10000 mails: 12\n",
      "Total number of emails did those people send: 216723\n"
     ]
    }
   ],
   "source": [
    "N = 10000\n",
    "email_count = emails_df['user'].value_counts()\n",
    "ten_thousand_plus = email_count[email_count > N]\n",
    "print(\"Nr of people who send more than 10000 mails: {}\".format(len(ten_thousand_plus)))\n",
    "print(\"Total number of emails did those people send: {}\".format(len(emails_df.groupby('user').filter(lambda x: len(x) >N))))"
   ]
  },
  {
   "cell_type": "markdown",
   "metadata": {},
   "source": [
    "## Conclution:  \n",
    "- In total, there are 527372 emails from 27980 email address and from 150 people. \n",
    "- There are 12 people send over 10000 emails, I will only work on those users. "
   ]
  },
  {
   "cell_type": "markdown",
   "metadata": {},
   "source": [
    "### So, we build a subset of data for later process"
   ]
  },
  {
   "cell_type": "code",
   "execution_count": 21,
   "metadata": {
    "collapsed": true
   },
   "outputs": [],
   "source": [
    "emails_df_subset = emails_df.groupby('user').filter(lambda x: len(x) >N)"
   ]
  },
  {
   "cell_type": "code",
   "execution_count": 22,
   "metadata": {},
   "outputs": [
    {
     "name": "stdout",
     "output_type": "stream",
     "text": [
      "(216723, 18)\n"
     ]
    }
   ],
   "source": [
    "print(emails_df_subset.shape)"
   ]
  },
  {
   "cell_type": "code",
   "execution_count": null,
   "metadata": {
    "collapsed": true
   },
   "outputs": [],
   "source": []
  },
  {
   "cell_type": "code",
   "execution_count": null,
   "metadata": {
    "collapsed": true
   },
   "outputs": [],
   "source": []
  },
  {
   "cell_type": "markdown",
   "metadata": {},
   "source": [
    "## Basic Natural Language Processing tasks\n",
    "### Here, I will try some basic tasks on one sample from data set: \n",
    " 1. Sentence splitting\n",
    " 2. Tokenization\n",
    " 3. POS-tagging\n",
    " 4. Lemmatization\n",
    " 5. Named Entity Recognition"
   ]
  },
  {
   "cell_type": "code",
   "execution_count": 23,
   "metadata": {},
   "outputs": [],
   "source": [
    "# just pick up a random mail\n",
    "test_id = 12 \n",
    "test_sentences = emails_df_subset['content'].iloc[test_id]\n",
    "\n",
    "doc = nlp(test_sentences)"
   ]
  },
  {
   "cell_type": "markdown",
   "metadata": {},
   "source": [
    "### Sentence splitting:\n",
    "- We can split sentense from the content, count sentences and the number of words in each sentences"
   ]
  },
  {
   "cell_type": "code",
   "execution_count": 25,
   "metadata": {
    "scrolled": true
   },
   "outputs": [
    {
     "name": "stdout",
     "output_type": "stream",
     "text": [
      "17 sentences\n",
      "Jeff, thanks for taking care of this for Fred. 9\n"
     ]
    }
   ],
   "source": [
    "sents = []\n",
    "for span in doc.sents:\n",
    "    sent = ''.join(doc[i].string for i in range(span.start, span.end)).strip()\n",
    "    sents.append(sent)\n",
    "print(len(sents),\"sentences\")\n",
    "print(sents[0],len(sents[0].split()))"
   ]
  },
  {
   "cell_type": "markdown",
   "metadata": {},
   "source": [
    "### Tokenization POS-tagging Lemmatization"
   ]
  },
  {
   "cell_type": "code",
   "execution_count": 26,
   "metadata": {
    "scrolled": true
   },
   "outputs": [
    {
     "name": "stdout",
     "output_type": "stream",
     "text": [
      "Jeff PROPN jeff\n"
     ]
    }
   ],
   "source": [
    "for token in doc[:1]:\n",
    "    print(token.orth_, token.pos_, token.lemma_)"
   ]
  },
  {
   "cell_type": "markdown",
   "metadata": {},
   "source": [
    "### Named Entity Recognition"
   ]
  },
  {
   "cell_type": "code",
   "execution_count": 28,
   "metadata": {
    "scrolled": false
   },
   "outputs": [
    {
     "name": "stdout",
     "output_type": "stream",
     "text": [
      "1 Jeff PERSON\n",
      "2 , (not an entity)\n",
      "-------------- entities only ---------------\n",
      "378 PERSON Jeff\n",
      "381 ORG \n",
      "\n",
      "\n",
      "\n",
      "\n",
      "\n"
     ]
    }
   ],
   "source": [
    "i = 0\n",
    "for token in doc[:2]:\n",
    "    i +=1\n",
    "    print(i, token.orth_, token.ent_type_ if token.ent_type_ != \"\" else \"(not an entity)\")\n",
    "\n",
    "print(\"-------------- entities only ---------------\")\n",
    "ents = list(doc.ents)\n",
    "for entity in ents[:2]:\n",
    "    print(entity.label, entity.label_, ' '.join(t.orth_ for t in entity))"
   ]
  },
  {
   "cell_type": "markdown",
   "metadata": {},
   "source": [
    "### By practise on one email data, we learn how the spacy works\n",
    "### Meanwhile we find: even the subset we build (216723 emails) still take long time to deal with"
   ]
  },
  {
   "cell_type": "markdown",
   "metadata": {},
   "source": [
    "### Here we speed up the process by\n",
    "1. Further reduce the size of dataset\n",
    "2. Get the doc structures for all selected data before extract features."
   ]
  },
  {
   "cell_type": "markdown",
   "metadata": {},
   "source": [
    "### 1. Further reduce the size of dataset"
   ]
  },
  {
   "cell_type": "markdown",
   "metadata": {},
   "source": [
    "#### randomly select 1000 sample email for each author (12 users)."
   ]
  },
  {
   "cell_type": "code",
   "execution_count": 30,
   "metadata": {
    "collapsed": true
   },
   "outputs": [],
   "source": [
    "\n",
    "df_1000 = emails_df_10000[[\"Message-ID\", \"content\", \"user\"]]\\\n",
    "                .groupby('user')\\\n",
    "                .apply(lambda df: df.sample(1000)) "
   ]
  },
  {
   "cell_type": "code",
   "execution_count": null,
   "metadata": {
    "collapsed": true
   },
   "outputs": [],
   "source": []
  },
  {
   "cell_type": "markdown",
   "metadata": {},
   "source": [
    "### Have a look at the word cloud for diffrent users, take \"beck-s\" and \"shackleton-s\" for example"
   ]
  },
  {
   "cell_type": "code",
   "execution_count": 43,
   "metadata": {
    "collapsed": true
   },
   "outputs": [],
   "source": [
    "beck_s = df_1000[df_1000.user==\"beck-s\"][\"content\"].values\n",
    "shackletons = df_1000[df_1000.user==\"shackleton-s\"][\"content\"].values"
   ]
  },
  {
   "cell_type": "code",
   "execution_count": 44,
   "metadata": {},
   "outputs": [
    {
     "data": {
      "text/plain": [
       "(-0.5, 379.5, 579.5, -0.5)"
      ]
     },
     "execution_count": 44,
     "metadata": {},
     "output_type": "execute_result"
    },
    {
     "data": {
      "image/png": "[encoded data removed]",
      "text/plain": [
       "<matplotlib.figure.Figure at 0x11eedf668>"
      ]
     },
     "metadata": {},
     "output_type": "display_data"
    }
   ],
   "source": [
    "plt.subplot(121)\n",
    "wc = WordCloud(width=380, height=580,background_color=\"black\", max_words=10000, \n",
    "               stopwords=STOPWORDS, max_font_size= 50)\n",
    "wc.generate(\" \".join(beck_s))\n",
    "plt.title(\"beck_s\", fontsize=16)\n",
    "plt.imshow(wc.recolor( colormap= 'Pastel1_r' , random_state=17), alpha=0.98)\n",
    "plt.axis('off')\n",
    "\n",
    "plt.subplot(122)\n",
    "wc = WordCloud(width=380, height=580,background_color=\"black\", max_words=10000, \n",
    "               stopwords=STOPWORDS, max_font_size= 50)\n",
    "wc.generate(\" \".join(beck_s))\n",
    "plt.title(\"shackleton_s\", fontsize=16)\n",
    "plt.imshow(wc.recolor( colormap= 'Pastel1_r' , random_state=17), alpha=0.98)\n",
    "plt.axis('off')"
   ]
  },
  {
   "cell_type": "markdown",
   "metadata": {},
   "source": [
    "####  From the wordcloud above, we can see there are not much difference between different users on their email contents."
   ]
  },
  {
   "cell_type": "markdown",
   "metadata": {},
   "source": [
    "### 2. Get doc structure for every sample.\n",
    "-  NOTE:  this step will take around 1 hour."
   ]
  },
  {
   "cell_type": "code",
   "execution_count": null,
   "metadata": {
    "scrolled": true
   },
   "outputs": [],
   "source": [
    "# I comment it out, because it takes long time to run it\n",
    "# df_1000[\"doc\"] = df_1000.content.apply(nlp) # get doc structure for every sample, this step will take around 1 hour."
   ]
  },
  {
   "cell_type": "markdown",
   "metadata": {},
   "source": [
    "### Save dataframe to pickle file, because of size and doc structure, it can't be saved into csv, and also too big for into one single file"
   ]
  },
  {
   "cell_type": "code",
   "execution_count": null,
   "metadata": {
    "collapsed": true
   },
   "outputs": [],
   "source": [
    "# I comment it out, because it takes long time to run it\n",
    "# df_1000[:3000].to_pickle(\"../data/emails_df_1000_12_tmp1.pkl\")\n",
    "# df_1000[3000:6000].to_pickle(\"../data/emails_df_1000_12_tmp2.pkl\")\n",
    "# df_1000[6000:9000].to_pickle(\"../data/emails_df_1000_12_tmp3.pkl\")\n",
    "# df_1000[9000:].to_pickle(\"../data/emails_df_1000_12_tmp4.pkl\")"
   ]
  },
  {
   "cell_type": "code",
   "execution_count": 108,
   "metadata": {},
   "outputs": [],
   "source": [
    "df1 = pd.read_pickle(\"../data/emails_df_1000_12_tmp1.pkl\")\n",
    "df2 = pd.read_pickle(\"../data/emails_df_1000_12_tmp2.pkl\")\n",
    "df3 = pd.read_pickle(\"../data/emails_df_1000_12_tmp3.pkl\")\n",
    "df4 = pd.read_pickle(\"../data/emails_df_1000_12_tmp4.pkl\")\n",
    "frames = [df1, df2, df3, df4]\n",
    "\n",
    "df_1000_12 = pd.concat(frames)"
   ]
  },
  {
   "cell_type": "code",
   "execution_count": 211,
   "metadata": {
    "scrolled": true
   },
   "outputs": [
    {
     "name": "stdout",
     "output_type": "stream",
     "text": [
      "   user  avg_nr_word_per_sent  nr_sents  std_nr_word_per_sent  nr_chars  \\\n",
      "0     1                 17.25       4.0              9.878428       224   \n",
      "\n",
      "   nr_letters  nr_lower  nr_nums  nr_punctuation  nr_spaces       ...        \\\n",
      "0         196       190       11               9          8       ...         \n",
      "\n",
      "   nr_stopwords  nr_words  avg_length_np  nr_function  nr_pos  \\\n",
      "0          27.0      50.0       7.857143         21.0    14.0   \n",
      "\n",
      "   nr_named_entity  nr_neg_word  nr_positive_word  nr_greeting  score_semantic  \n",
      "0               15            0                 0          0.0          0.0258  \n",
      "\n",
      "[1 rows x 33 columns]\n"
     ]
    }
   ],
   "source": [
    "print(df_1000_12.head(1))"
   ]
  },
  {
   "cell_type": "code",
   "execution_count": null,
   "metadata": {
    "collapsed": true
   },
   "outputs": [],
   "source": []
  },
  {
   "cell_type": "markdown",
   "metadata": {},
   "source": [
    "##  Extract featrues "
   ]
  },
  {
   "cell_type": "markdown",
   "metadata": {},
   "source": [
    "### 1. Extact sentence based features :"
   ]
  },
  {
   "cell_type": "code",
   "execution_count": 110,
   "metadata": {
    "scrolled": true
   },
   "outputs": [
    {
     "data": {
      "text/html": [
       "<div>\n",
       "<style scoped>\n",
       "    .dataframe tbody tr th:only-of-type {\n",
       "        vertical-align: middle;\n",
       "    }\n",
       "\n",
       "    .dataframe tbody tr th {\n",
       "        vertical-align: top;\n",
       "    }\n",
       "\n",
       "    .dataframe thead th {\n",
       "        text-align: right;\n",
       "    }\n",
       "</style>\n",
       "<table border=\"1\" class=\"dataframe\">\n",
       "  <thead>\n",
       "    <tr style=\"text-align: right;\">\n",
       "      <th></th>\n",
       "      <th></th>\n",
       "      <th>Message-ID</th>\n",
       "      <th>content</th>\n",
       "      <th>user</th>\n",
       "      <th>doc</th>\n",
       "      <th>avg_nr_word_per_sent</th>\n",
       "      <th>nr_sents</th>\n",
       "      <th>std_nr_word_per_sent</th>\n",
       "    </tr>\n",
       "    <tr>\n",
       "      <th>user</th>\n",
       "      <th></th>\n",
       "      <th></th>\n",
       "      <th></th>\n",
       "      <th></th>\n",
       "      <th></th>\n",
       "      <th></th>\n",
       "      <th></th>\n",
       "      <th></th>\n",
       "    </tr>\n",
       "  </thead>\n",
       "  <tbody>\n",
       "    <tr>\n",
       "      <th>beck-s</th>\n",
       "      <th>31526</th>\n",
       "      <td>&lt;8253436.1075855906483.JavaMail.evans@thyme&gt;</td>\n",
       "      <td>I will be out of the office after noon on Frid...</td>\n",
       "      <td>beck-s</td>\n",
       "      <td>(I, will, be, out, of, the, office, after, noo...</td>\n",
       "      <td>17.25</td>\n",
       "      <td>4.0</td>\n",
       "      <td>9.878428</td>\n",
       "    </tr>\n",
       "  </tbody>\n",
       "</table>\n",
       "</div>"
      ],
      "text/plain": [
       "                                                Message-ID  \\\n",
       "user                                                         \n",
       "beck-s 31526  <8253436.1075855906483.JavaMail.evans@thyme>   \n",
       "\n",
       "                                                        content    user  \\\n",
       "user                                                                      \n",
       "beck-s 31526  I will be out of the office after noon on Frid...  beck-s   \n",
       "\n",
       "                                                            doc  \\\n",
       "user                                                              \n",
       "beck-s 31526  (I, will, be, out, of, the, office, after, noo...   \n",
       "\n",
       "              avg_nr_word_per_sent  nr_sents  std_nr_word_per_sent  \n",
       "user                                                                \n",
       "beck-s 31526                 17.25       4.0              9.878428  "
      ]
     },
     "execution_count": 110,
     "metadata": {},
     "output_type": "execute_result"
    }
   ],
   "source": [
    "df_1000_12 = df_1000_12.join(df_1000_12.doc.apply(features.sentence_based_features))\n",
    "df_1000_12.head(1)"
   ]
  },
  {
   "cell_type": "markdown",
   "metadata": {},
   "source": [
    "### 2. Extact character based features :\n"
   ]
  },
  {
   "cell_type": "code",
   "execution_count": 111,
   "metadata": {},
   "outputs": [
    {
     "data": {
      "text/html": [
       "<div>\n",
       "<style scoped>\n",
       "    .dataframe tbody tr th:only-of-type {\n",
       "        vertical-align: middle;\n",
       "    }\n",
       "\n",
       "    .dataframe tbody tr th {\n",
       "        vertical-align: top;\n",
       "    }\n",
       "\n",
       "    .dataframe thead th {\n",
       "        text-align: right;\n",
       "    }\n",
       "</style>\n",
       "<table border=\"1\" class=\"dataframe\">\n",
       "  <thead>\n",
       "    <tr style=\"text-align: right;\">\n",
       "      <th></th>\n",
       "      <th></th>\n",
       "      <th>Message-ID</th>\n",
       "      <th>content</th>\n",
       "      <th>user</th>\n",
       "      <th>doc</th>\n",
       "      <th>avg_nr_word_per_sent</th>\n",
       "      <th>nr_sents</th>\n",
       "      <th>std_nr_word_per_sent</th>\n",
       "      <th>nr_chars</th>\n",
       "      <th>nr_letters</th>\n",
       "      <th>nr_lower</th>\n",
       "      <th>nr_nums</th>\n",
       "      <th>nr_punctuation</th>\n",
       "      <th>nr_spaces</th>\n",
       "      <th>nr_upper</th>\n",
       "    </tr>\n",
       "    <tr>\n",
       "      <th>user</th>\n",
       "      <th></th>\n",
       "      <th></th>\n",
       "      <th></th>\n",
       "      <th></th>\n",
       "      <th></th>\n",
       "      <th></th>\n",
       "      <th></th>\n",
       "      <th></th>\n",
       "      <th></th>\n",
       "      <th></th>\n",
       "      <th></th>\n",
       "      <th></th>\n",
       "      <th></th>\n",
       "      <th></th>\n",
       "      <th></th>\n",
       "    </tr>\n",
       "  </thead>\n",
       "  <tbody>\n",
       "    <tr>\n",
       "      <th>beck-s</th>\n",
       "      <th>31526</th>\n",
       "      <td>&lt;8253436.1075855906483.JavaMail.evans@thyme&gt;</td>\n",
       "      <td>I will be out of the office after noon on Frid...</td>\n",
       "      <td>beck-s</td>\n",
       "      <td>(I, will, be, out, of, the, office, after, noo...</td>\n",
       "      <td>17.25</td>\n",
       "      <td>4.0</td>\n",
       "      <td>9.878428</td>\n",
       "      <td>224</td>\n",
       "      <td>196</td>\n",
       "      <td>190</td>\n",
       "      <td>11</td>\n",
       "      <td>9</td>\n",
       "      <td>8</td>\n",
       "      <td>6</td>\n",
       "    </tr>\n",
       "  </tbody>\n",
       "</table>\n",
       "</div>"
      ],
      "text/plain": [
       "                                                Message-ID  \\\n",
       "user                                                         \n",
       "beck-s 31526  <8253436.1075855906483.JavaMail.evans@thyme>   \n",
       "\n",
       "                                                        content    user  \\\n",
       "user                                                                      \n",
       "beck-s 31526  I will be out of the office after noon on Frid...  beck-s   \n",
       "\n",
       "                                                            doc  \\\n",
       "user                                                              \n",
       "beck-s 31526  (I, will, be, out, of, the, office, after, noo...   \n",
       "\n",
       "              avg_nr_word_per_sent  nr_sents  std_nr_word_per_sent  nr_chars  \\\n",
       "user                                                                           \n",
       "beck-s 31526                 17.25       4.0              9.878428       224   \n",
       "\n",
       "              nr_letters  nr_lower  nr_nums  nr_punctuation  nr_spaces  \\\n",
       "user                                                                     \n",
       "beck-s 31526         196       190       11               9          8   \n",
       "\n",
       "              nr_upper  \n",
       "user                    \n",
       "beck-s 31526         6  "
      ]
     },
     "execution_count": 111,
     "metadata": {},
     "output_type": "execute_result"
    }
   ],
   "source": [
    "df_1000_12 = df_1000_12.join(df_1000_12.doc.apply(features.character_based_features))\n",
    "df_1000_12.head(1)"
   ]
  },
  {
   "cell_type": "markdown",
   "metadata": {},
   "source": [
    "### 3. Extact punctuation based features :\n"
   ]
  },
  {
   "cell_type": "code",
   "execution_count": 112,
   "metadata": {
    "scrolled": false
   },
   "outputs": [
    {
     "data": {
      "text/html": [
       "<div>\n",
       "<style scoped>\n",
       "    .dataframe tbody tr th:only-of-type {\n",
       "        vertical-align: middle;\n",
       "    }\n",
       "\n",
       "    .dataframe tbody tr th {\n",
       "        vertical-align: top;\n",
       "    }\n",
       "\n",
       "    .dataframe thead th {\n",
       "        text-align: right;\n",
       "    }\n",
       "</style>\n",
       "<table border=\"1\" class=\"dataframe\">\n",
       "  <thead>\n",
       "    <tr style=\"text-align: right;\">\n",
       "      <th></th>\n",
       "      <th></th>\n",
       "      <th>Message-ID</th>\n",
       "      <th>content</th>\n",
       "      <th>user</th>\n",
       "      <th>doc</th>\n",
       "      <th>avg_nr_word_per_sent</th>\n",
       "      <th>nr_sents</th>\n",
       "      <th>std_nr_word_per_sent</th>\n",
       "      <th>nr_chars</th>\n",
       "      <th>nr_letters</th>\n",
       "      <th>nr_lower</th>\n",
       "      <th>...</th>\n",
       "      <th>nr_punctuation</th>\n",
       "      <th>nr_spaces</th>\n",
       "      <th>nr_upper</th>\n",
       "      <th>nr_colons</th>\n",
       "      <th>nr_commas</th>\n",
       "      <th>nr_dots</th>\n",
       "      <th>nr_exclamation</th>\n",
       "      <th>nr_hyphens</th>\n",
       "      <th>nr_question</th>\n",
       "      <th>nr_semicolons</th>\n",
       "    </tr>\n",
       "    <tr>\n",
       "      <th>user</th>\n",
       "      <th></th>\n",
       "      <th></th>\n",
       "      <th></th>\n",
       "      <th></th>\n",
       "      <th></th>\n",
       "      <th></th>\n",
       "      <th></th>\n",
       "      <th></th>\n",
       "      <th></th>\n",
       "      <th></th>\n",
       "      <th></th>\n",
       "      <th></th>\n",
       "      <th></th>\n",
       "      <th></th>\n",
       "      <th></th>\n",
       "      <th></th>\n",
       "      <th></th>\n",
       "      <th></th>\n",
       "      <th></th>\n",
       "      <th></th>\n",
       "      <th></th>\n",
       "      <th></th>\n",
       "    </tr>\n",
       "  </thead>\n",
       "  <tbody>\n",
       "    <tr>\n",
       "      <th>beck-s</th>\n",
       "      <th>31526</th>\n",
       "      <td>&lt;8253436.1075855906483.JavaMail.evans@thyme&gt;</td>\n",
       "      <td>I will be out of the office after noon on Frid...</td>\n",
       "      <td>beck-s</td>\n",
       "      <td>(I, will, be, out, of, the, office, after, noo...</td>\n",
       "      <td>17.25</td>\n",
       "      <td>4.0</td>\n",
       "      <td>9.878428</td>\n",
       "      <td>224</td>\n",
       "      <td>196</td>\n",
       "      <td>190</td>\n",
       "      <td>...</td>\n",
       "      <td>9</td>\n",
       "      <td>8</td>\n",
       "      <td>6</td>\n",
       "      <td>0</td>\n",
       "      <td>4</td>\n",
       "      <td>3</td>\n",
       "      <td>0</td>\n",
       "      <td>2</td>\n",
       "      <td>0</td>\n",
       "      <td>0</td>\n",
       "    </tr>\n",
       "  </tbody>\n",
       "</table>\n",
       "<p>1 rows × 21 columns</p>\n",
       "</div>"
      ],
      "text/plain": [
       "                                                Message-ID  \\\n",
       "user                                                         \n",
       "beck-s 31526  <8253436.1075855906483.JavaMail.evans@thyme>   \n",
       "\n",
       "                                                        content    user  \\\n",
       "user                                                                      \n",
       "beck-s 31526  I will be out of the office after noon on Frid...  beck-s   \n",
       "\n",
       "                                                            doc  \\\n",
       "user                                                              \n",
       "beck-s 31526  (I, will, be, out, of, the, office, after, noo...   \n",
       "\n",
       "              avg_nr_word_per_sent  nr_sents  std_nr_word_per_sent  nr_chars  \\\n",
       "user                                                                           \n",
       "beck-s 31526                 17.25       4.0              9.878428       224   \n",
       "\n",
       "              nr_letters  nr_lower      ...        nr_punctuation  nr_spaces  \\\n",
       "user                                    ...                                    \n",
       "beck-s 31526         196       190      ...                     9          8   \n",
       "\n",
       "              nr_upper  nr_colons  nr_commas  nr_dots  nr_exclamation  \\\n",
       "user                                                                    \n",
       "beck-s 31526         6          0          4        3               0   \n",
       "\n",
       "              nr_hyphens  nr_question  nr_semicolons  \n",
       "user                                                  \n",
       "beck-s 31526           2            0              0  \n",
       "\n",
       "[1 rows x 21 columns]"
      ]
     },
     "execution_count": 112,
     "metadata": {},
     "output_type": "execute_result"
    }
   ],
   "source": [
    "df_1000_12 = df_1000_12.join(df_1000_12.doc.apply(features.punctuation_based_features))\n",
    "df_1000_12.head(1)"
   ]
  },
  {
   "cell_type": "markdown",
   "metadata": {},
   "source": [
    "### 4. Extact word based features :\n"
   ]
  },
  {
   "cell_type": "code",
   "execution_count": 113,
   "metadata": {
    "scrolled": true
   },
   "outputs": [
    {
     "data": {
      "text/html": [
       "<div>\n",
       "<style scoped>\n",
       "    .dataframe tbody tr th:only-of-type {\n",
       "        vertical-align: middle;\n",
       "    }\n",
       "\n",
       "    .dataframe tbody tr th {\n",
       "        vertical-align: top;\n",
       "    }\n",
       "\n",
       "    .dataframe thead th {\n",
       "        text-align: right;\n",
       "    }\n",
       "</style>\n",
       "<table border=\"1\" class=\"dataframe\">\n",
       "  <thead>\n",
       "    <tr style=\"text-align: right;\">\n",
       "      <th></th>\n",
       "      <th></th>\n",
       "      <th>Message-ID</th>\n",
       "      <th>content</th>\n",
       "      <th>user</th>\n",
       "      <th>doc</th>\n",
       "      <th>avg_nr_word_per_sent</th>\n",
       "      <th>nr_sents</th>\n",
       "      <th>std_nr_word_per_sent</th>\n",
       "      <th>nr_chars</th>\n",
       "      <th>nr_letters</th>\n",
       "      <th>nr_lower</th>\n",
       "      <th>...</th>\n",
       "      <th>nr_question</th>\n",
       "      <th>nr_semicolons</th>\n",
       "      <th>HTR</th>\n",
       "      <th>TTR</th>\n",
       "      <th>avg_characters_per_word</th>\n",
       "      <th>most_frequency</th>\n",
       "      <th>nr_error</th>\n",
       "      <th>nr_longwords</th>\n",
       "      <th>nr_stopwords</th>\n",
       "      <th>nr_words</th>\n",
       "    </tr>\n",
       "    <tr>\n",
       "      <th>user</th>\n",
       "      <th></th>\n",
       "      <th></th>\n",
       "      <th></th>\n",
       "      <th></th>\n",
       "      <th></th>\n",
       "      <th></th>\n",
       "      <th></th>\n",
       "      <th></th>\n",
       "      <th></th>\n",
       "      <th></th>\n",
       "      <th></th>\n",
       "      <th></th>\n",
       "      <th></th>\n",
       "      <th></th>\n",
       "      <th></th>\n",
       "      <th></th>\n",
       "      <th></th>\n",
       "      <th></th>\n",
       "      <th></th>\n",
       "      <th></th>\n",
       "      <th></th>\n",
       "      <th></th>\n",
       "    </tr>\n",
       "  </thead>\n",
       "  <tbody>\n",
       "    <tr>\n",
       "      <th>beck-s</th>\n",
       "      <th>31526</th>\n",
       "      <td>&lt;8253436.1075855906483.JavaMail.evans@thyme&gt;</td>\n",
       "      <td>I will be out of the office after noon on Frid...</td>\n",
       "      <td>beck-s</td>\n",
       "      <td>(I, will, be, out, of, the, office, after, noo...</td>\n",
       "      <td>17.25</td>\n",
       "      <td>4.0</td>\n",
       "      <td>9.878428</td>\n",
       "      <td>224</td>\n",
       "      <td>196</td>\n",
       "      <td>190</td>\n",
       "      <td>...</td>\n",
       "      <td>0</td>\n",
       "      <td>0</td>\n",
       "      <td>0.52</td>\n",
       "      <td>0.72</td>\n",
       "      <td>3.92</td>\n",
       "      <td>4.0</td>\n",
       "      <td>0.0</td>\n",
       "      <td>12.0</td>\n",
       "      <td>27.0</td>\n",
       "      <td>50.0</td>\n",
       "    </tr>\n",
       "  </tbody>\n",
       "</table>\n",
       "<p>1 rows × 29 columns</p>\n",
       "</div>"
      ],
      "text/plain": [
       "                                                Message-ID  \\\n",
       "user                                                         \n",
       "beck-s 31526  <8253436.1075855906483.JavaMail.evans@thyme>   \n",
       "\n",
       "                                                        content    user  \\\n",
       "user                                                                      \n",
       "beck-s 31526  I will be out of the office after noon on Frid...  beck-s   \n",
       "\n",
       "                                                            doc  \\\n",
       "user                                                              \n",
       "beck-s 31526  (I, will, be, out, of, the, office, after, noo...   \n",
       "\n",
       "              avg_nr_word_per_sent  nr_sents  std_nr_word_per_sent  nr_chars  \\\n",
       "user                                                                           \n",
       "beck-s 31526                 17.25       4.0              9.878428       224   \n",
       "\n",
       "              nr_letters  nr_lower    ...     nr_question  nr_semicolons  \\\n",
       "user                                  ...                                  \n",
       "beck-s 31526         196       190    ...               0              0   \n",
       "\n",
       "               HTR   TTR  avg_characters_per_word  most_frequency  nr_error  \\\n",
       "user                                                                          \n",
       "beck-s 31526  0.52  0.72                     3.92             4.0       0.0   \n",
       "\n",
       "              nr_longwords  nr_stopwords  nr_words  \n",
       "user                                                \n",
       "beck-s 31526          12.0          27.0      50.0  \n",
       "\n",
       "[1 rows x 29 columns]"
      ]
     },
     "execution_count": 113,
     "metadata": {},
     "output_type": "execute_result"
    }
   ],
   "source": [
    "df_1000_12 = df_1000_12.join(df_1000_12.doc.apply(features.word_based_features))\n",
    "df_1000_12.head(1)"
   ]
  },
  {
   "cell_type": "markdown",
   "metadata": {},
   "source": [
    "### 5. Extact syntactic features :"
   ]
  },
  {
   "cell_type": "code",
   "execution_count": 114,
   "metadata": {
    "scrolled": true
   },
   "outputs": [
    {
     "data": {
      "text/html": [
       "<div>\n",
       "<style scoped>\n",
       "    .dataframe tbody tr th:only-of-type {\n",
       "        vertical-align: middle;\n",
       "    }\n",
       "\n",
       "    .dataframe tbody tr th {\n",
       "        vertical-align: top;\n",
       "    }\n",
       "\n",
       "    .dataframe thead th {\n",
       "        text-align: right;\n",
       "    }\n",
       "</style>\n",
       "<table border=\"1\" class=\"dataframe\">\n",
       "  <thead>\n",
       "    <tr style=\"text-align: right;\">\n",
       "      <th></th>\n",
       "      <th></th>\n",
       "      <th>Message-ID</th>\n",
       "      <th>content</th>\n",
       "      <th>user</th>\n",
       "      <th>doc</th>\n",
       "      <th>avg_nr_word_per_sent</th>\n",
       "      <th>nr_sents</th>\n",
       "      <th>std_nr_word_per_sent</th>\n",
       "      <th>nr_chars</th>\n",
       "      <th>nr_letters</th>\n",
       "      <th>nr_lower</th>\n",
       "      <th>...</th>\n",
       "      <th>TTR</th>\n",
       "      <th>avg_characters_per_word</th>\n",
       "      <th>most_frequency</th>\n",
       "      <th>nr_error</th>\n",
       "      <th>nr_longwords</th>\n",
       "      <th>nr_stopwords</th>\n",
       "      <th>nr_words</th>\n",
       "      <th>avg_length_np</th>\n",
       "      <th>nr_function</th>\n",
       "      <th>nr_pos</th>\n",
       "    </tr>\n",
       "    <tr>\n",
       "      <th>user</th>\n",
       "      <th></th>\n",
       "      <th></th>\n",
       "      <th></th>\n",
       "      <th></th>\n",
       "      <th></th>\n",
       "      <th></th>\n",
       "      <th></th>\n",
       "      <th></th>\n",
       "      <th></th>\n",
       "      <th></th>\n",
       "      <th></th>\n",
       "      <th></th>\n",
       "      <th></th>\n",
       "      <th></th>\n",
       "      <th></th>\n",
       "      <th></th>\n",
       "      <th></th>\n",
       "      <th></th>\n",
       "      <th></th>\n",
       "      <th></th>\n",
       "      <th></th>\n",
       "      <th></th>\n",
       "    </tr>\n",
       "  </thead>\n",
       "  <tbody>\n",
       "    <tr>\n",
       "      <th>beck-s</th>\n",
       "      <th>31526</th>\n",
       "      <td>&lt;8253436.1075855906483.JavaMail.evans@thyme&gt;</td>\n",
       "      <td>I will be out of the office after noon on Frid...</td>\n",
       "      <td>beck-s</td>\n",
       "      <td>(I, will, be, out, of, the, office, after, noo...</td>\n",
       "      <td>17.25</td>\n",
       "      <td>4.0</td>\n",
       "      <td>9.878428</td>\n",
       "      <td>224</td>\n",
       "      <td>196</td>\n",
       "      <td>190</td>\n",
       "      <td>...</td>\n",
       "      <td>0.72</td>\n",
       "      <td>3.92</td>\n",
       "      <td>4.0</td>\n",
       "      <td>0.0</td>\n",
       "      <td>12.0</td>\n",
       "      <td>27.0</td>\n",
       "      <td>50.0</td>\n",
       "      <td>7.857143</td>\n",
       "      <td>21.0</td>\n",
       "      <td>14.0</td>\n",
       "    </tr>\n",
       "  </tbody>\n",
       "</table>\n",
       "<p>1 rows × 32 columns</p>\n",
       "</div>"
      ],
      "text/plain": [
       "                                                Message-ID  \\\n",
       "user                                                         \n",
       "beck-s 31526  <8253436.1075855906483.JavaMail.evans@thyme>   \n",
       "\n",
       "                                                        content    user  \\\n",
       "user                                                                      \n",
       "beck-s 31526  I will be out of the office after noon on Frid...  beck-s   \n",
       "\n",
       "                                                            doc  \\\n",
       "user                                                              \n",
       "beck-s 31526  (I, will, be, out, of, the, office, after, noo...   \n",
       "\n",
       "              avg_nr_word_per_sent  nr_sents  std_nr_word_per_sent  nr_chars  \\\n",
       "user                                                                           \n",
       "beck-s 31526                 17.25       4.0              9.878428       224   \n",
       "\n",
       "              nr_letters  nr_lower   ...     TTR  avg_characters_per_word  \\\n",
       "user                                 ...                                    \n",
       "beck-s 31526         196       190   ...    0.72                     3.92   \n",
       "\n",
       "              most_frequency  nr_error  nr_longwords  nr_stopwords  nr_words  \\\n",
       "user                                                                           \n",
       "beck-s 31526             4.0       0.0          12.0          27.0      50.0   \n",
       "\n",
       "              avg_length_np  nr_function  nr_pos  \n",
       "user                                              \n",
       "beck-s 31526       7.857143         21.0    14.0  \n",
       "\n",
       "[1 rows x 32 columns]"
      ]
     },
     "execution_count": 114,
     "metadata": {},
     "output_type": "execute_result"
    }
   ],
   "source": [
    "df_1000_12 = df_1000_12.join(df_1000_12.doc.apply(features.syntactic_features))\n",
    "df_1000_12.head(1)"
   ]
  },
  {
   "cell_type": "markdown",
   "metadata": {},
   "source": [
    "### 6. Extact semantic features :"
   ]
  },
  {
   "cell_type": "code",
   "execution_count": 115,
   "metadata": {
    "scrolled": false
   },
   "outputs": [
    {
     "data": {
      "text/html": [
       "<div>\n",
       "<style scoped>\n",
       "    .dataframe tbody tr th:only-of-type {\n",
       "        vertical-align: middle;\n",
       "    }\n",
       "\n",
       "    .dataframe tbody tr th {\n",
       "        vertical-align: top;\n",
       "    }\n",
       "\n",
       "    .dataframe thead th {\n",
       "        text-align: right;\n",
       "    }\n",
       "</style>\n",
       "<table border=\"1\" class=\"dataframe\">\n",
       "  <thead>\n",
       "    <tr style=\"text-align: right;\">\n",
       "      <th></th>\n",
       "      <th></th>\n",
       "      <th>Message-ID</th>\n",
       "      <th>content</th>\n",
       "      <th>user</th>\n",
       "      <th>doc</th>\n",
       "      <th>avg_nr_word_per_sent</th>\n",
       "      <th>nr_sents</th>\n",
       "      <th>std_nr_word_per_sent</th>\n",
       "      <th>nr_chars</th>\n",
       "      <th>nr_letters</th>\n",
       "      <th>nr_lower</th>\n",
       "      <th>...</th>\n",
       "      <th>nr_error</th>\n",
       "      <th>nr_longwords</th>\n",
       "      <th>nr_stopwords</th>\n",
       "      <th>nr_words</th>\n",
       "      <th>avg_length_np</th>\n",
       "      <th>nr_function</th>\n",
       "      <th>nr_pos</th>\n",
       "      <th>nr_named_entity</th>\n",
       "      <th>nr_neg_word</th>\n",
       "      <th>nr_positive_word</th>\n",
       "    </tr>\n",
       "    <tr>\n",
       "      <th>user</th>\n",
       "      <th></th>\n",
       "      <th></th>\n",
       "      <th></th>\n",
       "      <th></th>\n",
       "      <th></th>\n",
       "      <th></th>\n",
       "      <th></th>\n",
       "      <th></th>\n",
       "      <th></th>\n",
       "      <th></th>\n",
       "      <th></th>\n",
       "      <th></th>\n",
       "      <th></th>\n",
       "      <th></th>\n",
       "      <th></th>\n",
       "      <th></th>\n",
       "      <th></th>\n",
       "      <th></th>\n",
       "      <th></th>\n",
       "      <th></th>\n",
       "      <th></th>\n",
       "      <th></th>\n",
       "    </tr>\n",
       "  </thead>\n",
       "  <tbody>\n",
       "    <tr>\n",
       "      <th>beck-s</th>\n",
       "      <th>31526</th>\n",
       "      <td>&lt;8253436.1075855906483.JavaMail.evans@thyme&gt;</td>\n",
       "      <td>I will be out of the office after noon on Frid...</td>\n",
       "      <td>beck-s</td>\n",
       "      <td>(I, will, be, out, of, the, office, after, noo...</td>\n",
       "      <td>17.25</td>\n",
       "      <td>4.0</td>\n",
       "      <td>9.878428</td>\n",
       "      <td>224</td>\n",
       "      <td>196</td>\n",
       "      <td>190</td>\n",
       "      <td>...</td>\n",
       "      <td>0.0</td>\n",
       "      <td>12.0</td>\n",
       "      <td>27.0</td>\n",
       "      <td>50.0</td>\n",
       "      <td>7.857143</td>\n",
       "      <td>21.0</td>\n",
       "      <td>14.0</td>\n",
       "      <td>15</td>\n",
       "      <td>0</td>\n",
       "      <td>0</td>\n",
       "    </tr>\n",
       "  </tbody>\n",
       "</table>\n",
       "<p>1 rows × 35 columns</p>\n",
       "</div>"
      ],
      "text/plain": [
       "                                                Message-ID  \\\n",
       "user                                                         \n",
       "beck-s 31526  <8253436.1075855906483.JavaMail.evans@thyme>   \n",
       "\n",
       "                                                        content    user  \\\n",
       "user                                                                      \n",
       "beck-s 31526  I will be out of the office after noon on Frid...  beck-s   \n",
       "\n",
       "                                                            doc  \\\n",
       "user                                                              \n",
       "beck-s 31526  (I, will, be, out, of, the, office, after, noo...   \n",
       "\n",
       "              avg_nr_word_per_sent  nr_sents  std_nr_word_per_sent  nr_chars  \\\n",
       "user                                                                           \n",
       "beck-s 31526                 17.25       4.0              9.878428       224   \n",
       "\n",
       "              nr_letters  nr_lower        ...         nr_error  nr_longwords  \\\n",
       "user                                      ...                                  \n",
       "beck-s 31526         196       190        ...              0.0          12.0   \n",
       "\n",
       "              nr_stopwords  nr_words  avg_length_np  nr_function  nr_pos  \\\n",
       "user                                                                       \n",
       "beck-s 31526          27.0      50.0       7.857143         21.0    14.0   \n",
       "\n",
       "              nr_named_entity  nr_neg_word  nr_positive_word  \n",
       "user                                                          \n",
       "beck-s 31526               15            0                 0  \n",
       "\n",
       "[1 rows x 35 columns]"
      ]
     },
     "execution_count": 115,
     "metadata": {},
     "output_type": "execute_result"
    }
   ],
   "source": [
    "df_1000_12 = df_1000_12.join(df_1000_12.doc.apply(features.semantic_features))\n",
    "df_1000_12.head(1)"
   ]
  },
  {
   "cell_type": "markdown",
   "metadata": {},
   "source": [
    "### 7. Extact semantic features(using content  as input instead of doc) :\n",
    "- Added one more feature as nr_greeting words as special features for mail\n"
   ]
  },
  {
   "cell_type": "code",
   "execution_count": 116,
   "metadata": {
    "scrolled": true
   },
   "outputs": [
    {
     "data": {
      "text/html": [
       "<div>\n",
       "<style scoped>\n",
       "    .dataframe tbody tr th:only-of-type {\n",
       "        vertical-align: middle;\n",
       "    }\n",
       "\n",
       "    .dataframe tbody tr th {\n",
       "        vertical-align: top;\n",
       "    }\n",
       "\n",
       "    .dataframe thead th {\n",
       "        text-align: right;\n",
       "    }\n",
       "</style>\n",
       "<table border=\"1\" class=\"dataframe\">\n",
       "  <thead>\n",
       "    <tr style=\"text-align: right;\">\n",
       "      <th></th>\n",
       "      <th></th>\n",
       "      <th>Message-ID</th>\n",
       "      <th>content</th>\n",
       "      <th>user</th>\n",
       "      <th>doc</th>\n",
       "      <th>avg_nr_word_per_sent</th>\n",
       "      <th>nr_sents</th>\n",
       "      <th>std_nr_word_per_sent</th>\n",
       "      <th>nr_chars</th>\n",
       "      <th>nr_letters</th>\n",
       "      <th>nr_lower</th>\n",
       "      <th>...</th>\n",
       "      <th>nr_words</th>\n",
       "      <th>avg_length_np</th>\n",
       "      <th>nr_function</th>\n",
       "      <th>nr_pos</th>\n",
       "      <th>nr_named_entity</th>\n",
       "      <th>nr_neg_word</th>\n",
       "      <th>nr_positive_word</th>\n",
       "      <th>nr_emoticons</th>\n",
       "      <th>nr_greeting</th>\n",
       "      <th>score_semantic</th>\n",
       "    </tr>\n",
       "    <tr>\n",
       "      <th>user</th>\n",
       "      <th></th>\n",
       "      <th></th>\n",
       "      <th></th>\n",
       "      <th></th>\n",
       "      <th></th>\n",
       "      <th></th>\n",
       "      <th></th>\n",
       "      <th></th>\n",
       "      <th></th>\n",
       "      <th></th>\n",
       "      <th></th>\n",
       "      <th></th>\n",
       "      <th></th>\n",
       "      <th></th>\n",
       "      <th></th>\n",
       "      <th></th>\n",
       "      <th></th>\n",
       "      <th></th>\n",
       "      <th></th>\n",
       "      <th></th>\n",
       "      <th></th>\n",
       "      <th></th>\n",
       "    </tr>\n",
       "  </thead>\n",
       "  <tbody>\n",
       "    <tr>\n",
       "      <th>beck-s</th>\n",
       "      <th>31526</th>\n",
       "      <td>&lt;8253436.1075855906483.JavaMail.evans@thyme&gt;</td>\n",
       "      <td>I will be out of the office after noon on Frid...</td>\n",
       "      <td>beck-s</td>\n",
       "      <td>(I, will, be, out, of, the, office, after, noo...</td>\n",
       "      <td>17.25</td>\n",
       "      <td>4.0</td>\n",
       "      <td>9.878428</td>\n",
       "      <td>224</td>\n",
       "      <td>196</td>\n",
       "      <td>190</td>\n",
       "      <td>...</td>\n",
       "      <td>50.0</td>\n",
       "      <td>7.857143</td>\n",
       "      <td>21.0</td>\n",
       "      <td>14.0</td>\n",
       "      <td>15</td>\n",
       "      <td>0</td>\n",
       "      <td>0</td>\n",
       "      <td>3.0</td>\n",
       "      <td>0.0</td>\n",
       "      <td>0.0258</td>\n",
       "    </tr>\n",
       "  </tbody>\n",
       "</table>\n",
       "<p>1 rows × 38 columns</p>\n",
       "</div>"
      ],
      "text/plain": [
       "                                                Message-ID  \\\n",
       "user                                                         \n",
       "beck-s 31526  <8253436.1075855906483.JavaMail.evans@thyme>   \n",
       "\n",
       "                                                        content    user  \\\n",
       "user                                                                      \n",
       "beck-s 31526  I will be out of the office after noon on Frid...  beck-s   \n",
       "\n",
       "                                                            doc  \\\n",
       "user                                                              \n",
       "beck-s 31526  (I, will, be, out, of, the, office, after, noo...   \n",
       "\n",
       "              avg_nr_word_per_sent  nr_sents  std_nr_word_per_sent  nr_chars  \\\n",
       "user                                                                           \n",
       "beck-s 31526                 17.25       4.0              9.878428       224   \n",
       "\n",
       "              nr_letters  nr_lower       ...        nr_words  avg_length_np  \\\n",
       "user                                     ...                                  \n",
       "beck-s 31526         196       190       ...            50.0       7.857143   \n",
       "\n",
       "              nr_function  nr_pos  nr_named_entity  nr_neg_word  \\\n",
       "user                                                              \n",
       "beck-s 31526         21.0    14.0               15            0   \n",
       "\n",
       "              nr_positive_word  nr_emoticons  nr_greeting  score_semantic  \n",
       "user                                                                       \n",
       "beck-s 31526                 0           3.0          0.0          0.0258  \n",
       "\n",
       "[1 rows x 38 columns]"
      ]
     },
     "execution_count": 116,
     "metadata": {},
     "output_type": "execute_result"
    }
   ],
   "source": [
    "df_1000_12 = df_1000_12.join(df_1000_12.content.apply(features.semantic_features_content))\n",
    "df_1000_12.head(1)"
   ]
  },
  {
   "cell_type": "markdown",
   "metadata": {},
   "source": [
    "## Now we finished with feature extracting.\n"
   ]
  },
  {
   "cell_type": "code",
   "execution_count": null,
   "metadata": {
    "collapsed": true
   },
   "outputs": [],
   "source": []
  },
  {
   "cell_type": "markdown",
   "metadata": {},
   "source": [
    "### Before we move on to next step, just taking a close look at features, we find nr_emoticons is surprisingly high, here, we did a small experiment to see if emot module really get the emoticons from the text."
   ]
  },
  {
   "cell_type": "code",
   "execution_count": 60,
   "metadata": {
    "scrolled": false
   },
   "outputs": [
    {
     "name": "stdout",
     "output_type": "stream",
     "text": [
      "[{'value': ')', 'location': [506, 507]}, {'value': ')', 'location': [540, 541]}, {'value': ':3', 'location': [1039, 1041]}]\n",
      "Ditto.  \n",
      "---------------------- Forwarded by Sally Beck/HOU/ECT on 05/30/2000 04:29 PM \n",
      "---------------------------\n",
      "\n",
      "From:  Information Risk Management/HOU/ECT\n",
      "\n",
      "Subject: Your approval is requested\n",
      "\n",
      "\tSecurity Resource Request System\t\n",
      "Application Approval\t\t\n",
      "Please review and act upon this request. You have received this eMail because \n",
      "you are listed as an approver on the original request.\n",
      "\t\t\tInstructions\t\n",
      "For: \tAdriane Moratto                   \t\t\t\n",
      "Request\tOriginal: \t\t\t\n",
      "Application Name:\tEOL - Other (US)\t\t\t\n",
      "Request Type:\tGrant\t\t\t\n",
      "Role(s):\t\t\t\t\n",
      "Comments:\tCommercial set up for Marketing group\t\tReview the request in the Request \n",
      "section at left.\n",
      "\t\t\tFor more information regarding who the request is for, do the following:\n",
      "\t\t\tClick on the name for PeopleFinder info\n",
      "\t\t\tSee the Further Information section below\n",
      "\t\t\tIn the Approval Section, select Approve or Reject, enter comments as \n",
      "necessary and click [Submit].\t\n",
      "\n",
      "\n",
      "\n",
      "\n",
      "\tFurther Information\t\t\n",
      "\t         \t\t\n",
      "Requestor:\t\t\tAdriane Moratto\n",
      "Manager:\tLorraine Becker\t\t\n",
      "Request Date:\t05/26/2000 12:32:12 PM\t\t\n",
      "RC #:\t2172\tWO #:\t\n",
      "Company #:\t413\tPriority:\tHigh\n",
      "General Comments:\t\t\t\n"
     ]
    }
   ],
   "source": [
    "s = str(df_1000_12['content'][4])\n",
    "print (emot.emoticons(s))\n",
    "print (s)"
   ]
  },
  {
   "cell_type": "markdown",
   "metadata": {},
   "source": [
    "### Just as shown above, emot regonize some pattern in the text, for example, punctuation like `)` and `:`,  but not emoticons at all."
   ]
  },
  {
   "cell_type": "markdown",
   "metadata": {},
   "source": [
    "### Similar things also apply to the feature nr_error, which is always been 0, indicat there are no spelling errors in whole dataset."
   ]
  },
  {
   "cell_type": "code",
   "execution_count": 119,
   "metadata": {},
   "outputs": [
    {
     "data": {
      "text/plain": [
       "count    12000.0\n",
       "mean         0.0\n",
       "std          0.0\n",
       "min          0.0\n",
       "25%          0.0\n",
       "50%          0.0\n",
       "75%          0.0\n",
       "max          0.0\n",
       "Name: nr_error, dtype: float64"
      ]
     },
     "execution_count": 119,
     "metadata": {},
     "output_type": "execute_result"
    }
   ],
   "source": [
    "df_1000_12['nr_error'].describe()"
   ]
  },
  {
   "cell_type": "code",
   "execution_count": null,
   "metadata": {
    "collapsed": true
   },
   "outputs": [],
   "source": []
  },
  {
   "cell_type": "markdown",
   "metadata": {},
   "source": [
    "### Here we drop features: 'nr_emoticons', 'nr_error'"
   ]
  },
  {
   "cell_type": "code",
   "execution_count": 120,
   "metadata": {
    "collapsed": true
   },
   "outputs": [],
   "source": [
    "columns = ['nr_emoticons', 'nr_error']\n",
    "df_1000_12.drop(columns, inplace=True, axis=1)"
   ]
  },
  {
   "cell_type": "code",
   "execution_count": null,
   "metadata": {
    "collapsed": true
   },
   "outputs": [],
   "source": []
  },
  {
   "cell_type": "code",
   "execution_count": null,
   "metadata": {
    "collapsed": true
   },
   "outputs": [],
   "source": []
  },
  {
   "cell_type": "markdown",
   "metadata": {},
   "source": [
    "## Digitize classes"
   ]
  },
  {
   "cell_type": "markdown",
   "metadata": {},
   "source": [
    "### We label encode classes of user's name to numbers for later anylsis"
   ]
  },
  {
   "cell_type": "code",
   "execution_count": 172,
   "metadata": {
    "scrolled": true
   },
   "outputs": [
    {
     "data": {
      "text/plain": [
       "array(['beck-s', 'dasovich-j', 'farmer-d', 'germany-c', 'jones-t',\n",
       "       'kaminski-v', 'kean-s', 'mann-k', 'nemec-g', 'shackleton-s',\n",
       "       'symes-k', 'taylor-m'], dtype=object)"
      ]
     },
     "execution_count": 172,
     "metadata": {},
     "output_type": "execute_result"
    }
   ],
   "source": [
    "df_1000_12.user.unique()"
   ]
  },
  {
   "cell_type": "code",
   "execution_count": 173,
   "metadata": {},
   "outputs": [
    {
     "data": {
      "text/html": [
       "<div>\n",
       "<style scoped>\n",
       "    .dataframe tbody tr th:only-of-type {\n",
       "        vertical-align: middle;\n",
       "    }\n",
       "\n",
       "    .dataframe tbody tr th {\n",
       "        vertical-align: top;\n",
       "    }\n",
       "\n",
       "    .dataframe thead th {\n",
       "        text-align: right;\n",
       "    }\n",
       "</style>\n",
       "<table border=\"1\" class=\"dataframe\">\n",
       "  <thead>\n",
       "    <tr style=\"text-align: right;\">\n",
       "      <th></th>\n",
       "      <th>Unnamed: 0</th>\n",
       "      <th>user</th>\n",
       "      <th>avg_nr_word_per_sent</th>\n",
       "      <th>nr_sents</th>\n",
       "      <th>std_nr_word_per_sent</th>\n",
       "      <th>nr_chars</th>\n",
       "      <th>nr_letters</th>\n",
       "      <th>nr_lower</th>\n",
       "      <th>nr_nums</th>\n",
       "      <th>nr_punctuation</th>\n",
       "      <th>...</th>\n",
       "      <th>nr_stopwords</th>\n",
       "      <th>nr_words</th>\n",
       "      <th>avg_length_np</th>\n",
       "      <th>nr_function</th>\n",
       "      <th>nr_pos</th>\n",
       "      <th>nr_named_entity</th>\n",
       "      <th>nr_neg_word</th>\n",
       "      <th>nr_positive_word</th>\n",
       "      <th>nr_greeting</th>\n",
       "      <th>score_semantic</th>\n",
       "    </tr>\n",
       "  </thead>\n",
       "  <tbody>\n",
       "    <tr>\n",
       "      <th>0</th>\n",
       "      <td>0</td>\n",
       "      <td>1</td>\n",
       "      <td>17.25</td>\n",
       "      <td>4.0</td>\n",
       "      <td>9.878428</td>\n",
       "      <td>224</td>\n",
       "      <td>196</td>\n",
       "      <td>190</td>\n",
       "      <td>11</td>\n",
       "      <td>9</td>\n",
       "      <td>...</td>\n",
       "      <td>27.0</td>\n",
       "      <td>50.0</td>\n",
       "      <td>7.857143</td>\n",
       "      <td>21.0</td>\n",
       "      <td>14.0</td>\n",
       "      <td>15</td>\n",
       "      <td>0</td>\n",
       "      <td>0</td>\n",
       "      <td>0.0</td>\n",
       "      <td>0.0258</td>\n",
       "    </tr>\n",
       "  </tbody>\n",
       "</table>\n",
       "<p>1 rows × 34 columns</p>\n",
       "</div>"
      ],
      "text/plain": [
       "   Unnamed: 0  user  avg_nr_word_per_sent  nr_sents  std_nr_word_per_sent  \\\n",
       "0           0     1                 17.25       4.0              9.878428   \n",
       "\n",
       "   nr_chars  nr_letters  nr_lower  nr_nums  nr_punctuation       ...        \\\n",
       "0       224         196       190       11               9       ...         \n",
       "\n",
       "   nr_stopwords  nr_words  avg_length_np  nr_function  nr_pos  \\\n",
       "0          27.0      50.0       7.857143         21.0    14.0   \n",
       "\n",
       "   nr_named_entity  nr_neg_word  nr_positive_word  nr_greeting  score_semantic  \n",
       "0               15            0                 0          0.0          0.0258  \n",
       "\n",
       "[1 rows x 34 columns]"
      ]
     },
     "execution_count": 173,
     "metadata": {},
     "output_type": "execute_result"
    }
   ],
   "source": [
    "df_1000_12['user'] = df_1000_12['user'].map( {'beck-s': 1, 'dasovich-j': 2, 'farmer-d': 3, 'germany-c': 4,\n",
    "                                              'jones-t': 5, 'kaminski-v': 6, 'kean-s': 7, 'mann-k': 8,\n",
    "                                             'nemec-g': 9, 'shackleton-s': 10, 'symes-k': 11, 'taylor-m': 12} ).astype(int)\n",
    "\n",
    "df_1000_12.head(1)"
   ]
  },
  {
   "cell_type": "markdown",
   "metadata": {},
   "source": [
    "### Remove colums we don't need"
   ]
  },
  {
   "cell_type": "code",
   "execution_count": 155,
   "metadata": {},
   "outputs": [
    {
     "data": {
      "text/html": [
       "<div>\n",
       "<style scoped>\n",
       "    .dataframe tbody tr th:only-of-type {\n",
       "        vertical-align: middle;\n",
       "    }\n",
       "\n",
       "    .dataframe tbody tr th {\n",
       "        vertical-align: top;\n",
       "    }\n",
       "\n",
       "    .dataframe thead th {\n",
       "        text-align: right;\n",
       "    }\n",
       "</style>\n",
       "<table border=\"1\" class=\"dataframe\">\n",
       "  <thead>\n",
       "    <tr style=\"text-align: right;\">\n",
       "      <th></th>\n",
       "      <th>user</th>\n",
       "      <th>avg_nr_word_per_sent</th>\n",
       "      <th>nr_sents</th>\n",
       "      <th>std_nr_word_per_sent</th>\n",
       "      <th>nr_chars</th>\n",
       "      <th>nr_letters</th>\n",
       "      <th>nr_lower</th>\n",
       "      <th>nr_nums</th>\n",
       "      <th>nr_punctuation</th>\n",
       "      <th>nr_spaces</th>\n",
       "      <th>...</th>\n",
       "      <th>nr_stopwords</th>\n",
       "      <th>nr_words</th>\n",
       "      <th>avg_length_np</th>\n",
       "      <th>nr_function</th>\n",
       "      <th>nr_pos</th>\n",
       "      <th>nr_named_entity</th>\n",
       "      <th>nr_neg_word</th>\n",
       "      <th>nr_positive_word</th>\n",
       "      <th>nr_greeting</th>\n",
       "      <th>score_semantic</th>\n",
       "    </tr>\n",
       "  </thead>\n",
       "  <tbody>\n",
       "    <tr>\n",
       "      <th>0</th>\n",
       "      <td>1</td>\n",
       "      <td>17.25</td>\n",
       "      <td>4.0</td>\n",
       "      <td>9.878428</td>\n",
       "      <td>224</td>\n",
       "      <td>196</td>\n",
       "      <td>190</td>\n",
       "      <td>11</td>\n",
       "      <td>9</td>\n",
       "      <td>8</td>\n",
       "      <td>...</td>\n",
       "      <td>27.0</td>\n",
       "      <td>50.0</td>\n",
       "      <td>7.857143</td>\n",
       "      <td>21.0</td>\n",
       "      <td>14.0</td>\n",
       "      <td>15</td>\n",
       "      <td>0</td>\n",
       "      <td>0</td>\n",
       "      <td>0.0</td>\n",
       "      <td>0.0258</td>\n",
       "    </tr>\n",
       "  </tbody>\n",
       "</table>\n",
       "<p>1 rows × 33 columns</p>\n",
       "</div>"
      ],
      "text/plain": [
       "   user  avg_nr_word_per_sent  nr_sents  std_nr_word_per_sent  nr_chars  \\\n",
       "0     1                 17.25       4.0              9.878428       224   \n",
       "\n",
       "   nr_letters  nr_lower  nr_nums  nr_punctuation  nr_spaces       ...        \\\n",
       "0         196       190       11               9          8       ...         \n",
       "\n",
       "   nr_stopwords  nr_words  avg_length_np  nr_function  nr_pos  \\\n",
       "0          27.0      50.0       7.857143         21.0    14.0   \n",
       "\n",
       "   nr_named_entity  nr_neg_word  nr_positive_word  nr_greeting  score_semantic  \n",
       "0               15            0                 0          0.0          0.0258  \n",
       "\n",
       "[1 rows x 33 columns]"
      ]
     },
     "execution_count": 155,
     "metadata": {},
     "output_type": "execute_result"
    }
   ],
   "source": [
    "df_1000_12.drop(['doc', 'content', 'Message-ID'], axis=1, inplace=True)\n",
    "df_1000_12.head(1)"
   ]
  },
  {
   "cell_type": "code",
   "execution_count": 179,
   "metadata": {
    "collapsed": true
   },
   "outputs": [],
   "source": [
    "df_1000_12.index = list(range(len(df_1000_12.index)))\n"
   ]
  },
  {
   "cell_type": "code",
   "execution_count": 190,
   "metadata": {},
   "outputs": [
    {
     "data": {
      "text/html": [
       "<div>\n",
       "<style scoped>\n",
       "    .dataframe tbody tr th:only-of-type {\n",
       "        vertical-align: middle;\n",
       "    }\n",
       "\n",
       "    .dataframe tbody tr th {\n",
       "        vertical-align: top;\n",
       "    }\n",
       "\n",
       "    .dataframe thead th {\n",
       "        text-align: right;\n",
       "    }\n",
       "</style>\n",
       "<table border=\"1\" class=\"dataframe\">\n",
       "  <thead>\n",
       "    <tr style=\"text-align: right;\">\n",
       "      <th></th>\n",
       "      <th>user</th>\n",
       "      <th>avg_nr_word_per_sent</th>\n",
       "      <th>nr_sents</th>\n",
       "      <th>std_nr_word_per_sent</th>\n",
       "      <th>nr_chars</th>\n",
       "      <th>nr_letters</th>\n",
       "      <th>nr_lower</th>\n",
       "      <th>nr_nums</th>\n",
       "      <th>nr_punctuation</th>\n",
       "      <th>nr_spaces</th>\n",
       "      <th>...</th>\n",
       "      <th>nr_stopwords</th>\n",
       "      <th>nr_words</th>\n",
       "      <th>avg_length_np</th>\n",
       "      <th>nr_function</th>\n",
       "      <th>nr_pos</th>\n",
       "      <th>nr_named_entity</th>\n",
       "      <th>nr_neg_word</th>\n",
       "      <th>nr_positive_word</th>\n",
       "      <th>nr_greeting</th>\n",
       "      <th>score_semantic</th>\n",
       "    </tr>\n",
       "  </thead>\n",
       "  <tbody>\n",
       "    <tr>\n",
       "      <th>0</th>\n",
       "      <td>1</td>\n",
       "      <td>17.25</td>\n",
       "      <td>4.0</td>\n",
       "      <td>9.878428</td>\n",
       "      <td>224</td>\n",
       "      <td>196</td>\n",
       "      <td>190</td>\n",
       "      <td>11</td>\n",
       "      <td>9</td>\n",
       "      <td>8</td>\n",
       "      <td>...</td>\n",
       "      <td>27.0</td>\n",
       "      <td>50.0</td>\n",
       "      <td>7.857143</td>\n",
       "      <td>21.0</td>\n",
       "      <td>14.0</td>\n",
       "      <td>15</td>\n",
       "      <td>0</td>\n",
       "      <td>0</td>\n",
       "      <td>0.0</td>\n",
       "      <td>0.0258</td>\n",
       "    </tr>\n",
       "  </tbody>\n",
       "</table>\n",
       "<p>1 rows × 33 columns</p>\n",
       "</div>"
      ],
      "text/plain": [
       "   user  avg_nr_word_per_sent  nr_sents  std_nr_word_per_sent  nr_chars  \\\n",
       "0     1                 17.25       4.0              9.878428       224   \n",
       "\n",
       "   nr_letters  nr_lower  nr_nums  nr_punctuation  nr_spaces       ...        \\\n",
       "0         196       190       11               9          8       ...         \n",
       "\n",
       "   nr_stopwords  nr_words  avg_length_np  nr_function  nr_pos  \\\n",
       "0          27.0      50.0       7.857143         21.0    14.0   \n",
       "\n",
       "   nr_named_entity  nr_neg_word  nr_positive_word  nr_greeting  score_semantic  \n",
       "0               15            0                 0          0.0          0.0258  \n",
       "\n",
       "[1 rows x 33 columns]"
      ]
     },
     "execution_count": 190,
     "metadata": {},
     "output_type": "execute_result"
    }
   ],
   "source": [
    "df_1000_12.head(1)"
   ]
  },
  {
   "cell_type": "markdown",
   "metadata": {},
   "source": [
    "# Output two required files "
   ]
  },
  {
   "cell_type": "markdown",
   "metadata": {
    "collapsed": true
   },
   "source": [
    "### Statistics for all samples -- statistics on all features for all samples"
   ]
  },
  {
   "cell_type": "code",
   "execution_count": 186,
   "metadata": {
    "collapsed": true
   },
   "outputs": [],
   "source": [
    "df_1000_12.to_csv(\"../result/Statistics_for_single_training_example.csv\")"
   ]
  },
  {
   "cell_type": "markdown",
   "metadata": {},
   "source": [
    "### Aggregate per author -- aggregated statistics on all features based on each user\n"
   ]
  },
  {
   "cell_type": "code",
   "execution_count": 187,
   "metadata": {
    "scrolled": true
   },
   "outputs": [],
   "source": [
    "df_t = df_1000_12.groupby('user').sum()\n",
    "df_t.to_csv(\"../result/Aggregate_per_author.csv\")\n"
   ]
  },
  {
   "cell_type": "markdown",
   "metadata": {},
   "source": [
    "## Split training set and test set using sklearn split"
   ]
  },
  {
   "cell_type": "code",
   "execution_count": 188,
   "metadata": {},
   "outputs": [
    {
     "data": {
      "text/plain": [
       "(12000, 33)"
      ]
     },
     "execution_count": 188,
     "metadata": {},
     "output_type": "execute_result"
    }
   ],
   "source": [
    "df_1000_12 = pd.read_csv(\"../result/Statistics_for_single_training_example.csv\",index_col=0)\n",
    "df_1000_12.shape"
   ]
  },
  {
   "cell_type": "markdown",
   "metadata": {},
   "source": [
    "###  Split the data using a 80/20 ratio"
   ]
  },
  {
   "cell_type": "code",
   "execution_count": 192,
   "metadata": {},
   "outputs": [],
   "source": [
    "train_idx, test_idx= train_test_split(df_1000_12.index,test_size=0.2, random_state=42) \n",
    "train_df = df_1000_12.iloc[train_idx]\n",
    "test_df = df_1000_12.iloc[test_idx]"
   ]
  },
  {
   "cell_type": "code",
   "execution_count": 194,
   "metadata": {},
   "outputs": [
    {
     "name": "stdout",
     "output_type": "stream",
     "text": [
      "(9600, 33)\n",
      "(2400, 33)\n"
     ]
    }
   ],
   "source": [
    "print (train_df.shape)\n",
    "print (test_df.shape)"
   ]
  },
  {
   "cell_type": "code",
   "execution_count": null,
   "metadata": {
    "collapsed": true
   },
   "outputs": [],
   "source": []
  },
  {
   "cell_type": "markdown",
   "metadata": {},
   "source": [
    "## Visualization"
   ]
  },
  {
   "cell_type": "markdown",
   "metadata": {},
   "source": [
    "### Correlation matrix for all features"
   ]
  },
  {
   "cell_type": "code",
   "execution_count": 195,
   "metadata": {
    "scrolled": true
   },
   "outputs": [
    {
     "data": {
      "image/png": "[encoded data removed]",
      "text/plain": [
       "<matplotlib.figure.Figure at 0x1214661d0>"
      ]
     },
     "metadata": {},
     "output_type": "display_data"
    }
   ],
   "source": [
    "corrmat = train_df.corr()\n",
    "f, ax = plt.subplots(figsize=(12, 9))\n",
    "sns.heatmap(corrmat, vmax=.8, square=True);"
   ]
  },
  {
   "cell_type": "markdown",
   "metadata": {},
   "source": [
    "### From above, we can see some features have high correlation coefficient, for example:\n",
    "- nr_nums and nr_chars almost have correlation coefficient as 1, since they are same type statistics, when one email have more characters it also cotain more numbers.\n",
    "- nr_pos and TTR have highest negative correlation coefficient as -0.7, since when there are more pos used in one email, there will be lower TTR ratio."
   ]
  },
  {
   "cell_type": "code",
   "execution_count": null,
   "metadata": {
    "collapsed": true
   },
   "outputs": [],
   "source": []
  },
  {
   "cell_type": "markdown",
   "metadata": {},
   "source": [
    "### Let's take a close look at two random features for example:"
   ]
  },
  {
   "cell_type": "markdown",
   "metadata": {},
   "source": [
    "#### Feature: avg_nr_word_per_sent"
   ]
  },
  {
   "cell_type": "code",
   "execution_count": 220,
   "metadata": {
    "scrolled": true
   },
   "outputs": [
    {
     "data": {
      "text/plain": [
       "<seaborn.axisgrid.FacetGrid at 0x1219ad470>"
      ]
     },
     "execution_count": 220,
     "metadata": {},
     "output_type": "execute_result"
    },
    {
     "data": {
      "image/png": "[encoded data removed]",
      "text/plain": [
       "<matplotlib.figure.Figure at 0x1219ada20>"
      ]
     },
     "metadata": {},
     "output_type": "display_data"
    }
   ],
   "source": [
    "g = sns.FacetGrid(train_df, col='user')\n",
    "\n",
    "g.map(plt.hist, 'avg_nr_word_per_sent', bins=20)"
   ]
  },
  {
   "cell_type": "markdown",
   "metadata": {},
   "source": [
    "#### Feature: nr_colons"
   ]
  },
  {
   "cell_type": "code",
   "execution_count": 79,
   "metadata": {
    "scrolled": false
   },
   "outputs": [
    {
     "data": {
      "text/plain": [
       "<seaborn.axisgrid.FacetGrid at 0x115f13748>"
      ]
     },
     "execution_count": 79,
     "metadata": {},
     "output_type": "execute_result"
    },
    {
     "data": {
      "image/png": "[encoded data removed]",
      "text/plain": [
       "<matplotlib.figure.Figure at 0x122d724a8>"
      ]
     },
     "metadata": {},
     "output_type": "display_data"
    }
   ],
   "source": [
    "g = sns.FacetGrid(train_df, col='user')\n",
    "\n",
    "g.map(plt.hist, 'nr_colons', bins=20)"
   ]
  },
  {
   "cell_type": "markdown",
   "metadata": {},
   "source": [
    "### From plot of feature: avg_nr_word_per_sent, we can see there are some difference between users, as user 2 have more emails using  around 10 words per sentence, but over all it can't give a good separation for all users. \n",
    "### We can get similar conclution for feature nr_colons as well."
   ]
  },
  {
   "cell_type": "code",
   "execution_count": null,
   "metadata": {
    "collapsed": true
   },
   "outputs": [],
   "source": []
  },
  {
   "cell_type": "markdown",
   "metadata": {},
   "source": [
    "# Use machine learning to predic classes\n"
   ]
  },
  {
   "cell_type": "code",
   "execution_count": null,
   "metadata": {
    "collapsed": true
   },
   "outputs": [],
   "source": [
    "X = train_df.drop('user', axis=1)\n",
    "y = train_df.user"
   ]
  },
  {
   "cell_type": "markdown",
   "metadata": {},
   "source": [
    "## we use 32 features in total"
   ]
  },
  {
   "cell_type": "code",
   "execution_count": 222,
   "metadata": {},
   "outputs": [
    {
     "data": {
      "text/plain": [
       "32"
      ]
     },
     "execution_count": 222,
     "metadata": {},
     "output_type": "execute_result"
    }
   ],
   "source": [
    "X.shape[1]"
   ]
  },
  {
   "cell_type": "markdown",
   "metadata": {},
   "source": [
    "### StandardScaler &  Minmax_scale"
   ]
  },
  {
   "cell_type": "code",
   "execution_count": 198,
   "metadata": {
    "collapsed": true,
    "scrolled": true
   },
   "outputs": [],
   "source": [
    "sScaler = StandardScaler(copy=True, with_mean=True, with_std=True)\n",
    "\n",
    "XScaled = minmax_scale((sScaler.fit_transform(X)), feature_range=(0, 1))\n",
    "y_label = label_binarize(y, classes=list(range(1,13)))"
   ]
  },
  {
   "cell_type": "code",
   "execution_count": 199,
   "metadata": {
    "collapsed": true
   },
   "outputs": [],
   "source": [
    "X_test = test_df.drop('user', axis=1)\n",
    "y_test = test_df.user\n",
    "X_test_Scaled = minmax_scale((sScaler.fit_transform(X_test)), feature_range=(0, 1))"
   ]
  },
  {
   "cell_type": "markdown",
   "metadata": {},
   "source": [
    "### Modling with Cross Validation\n",
    "#### From Kneighbors and Random Forest model we will choose a more accurate model and related parameters for later prediction."
   ]
  },
  {
   "cell_type": "markdown",
   "metadata": {},
   "source": [
    "### KNeighbors \n"
   ]
  },
  {
   "cell_type": "code",
   "execution_count": 83,
   "metadata": {},
   "outputs": [
    {
     "name": "stdout",
     "output_type": "stream",
     "text": [
      "roc_auc: 0.6163 (+/- 0.0070)\n"
     ]
    }
   ],
   "source": [
    "clf = KNeighborsClassifier(n_neighbors = 10,algorithm='ball_tree')\n",
    "scores = cross_val_score(clf, XScaled, y_label, cv=5, scoring='roc_auc')\n",
    "print(\"roc_auc: %0.4f (+/- %0.4f)\" % (scores.mean(), scores.std() * 2))"
   ]
  },
  {
   "cell_type": "code",
   "execution_count": 84,
   "metadata": {},
   "outputs": [
    {
     "name": "stdout",
     "output_type": "stream",
     "text": [
      "roc_auc: 0.6283 (+/- 0.0037)\n"
     ]
    }
   ],
   "source": [
    "clf = KNeighborsClassifier(n_neighbors = 50,algorithm='ball_tree')\n",
    "scores = cross_val_score(clf, XScaled, y_label, cv=5, scoring='roc_auc')\n",
    "print(\"roc_auc: %0.4f (+/- %0.4f)\" % (scores.mean(), scores.std() * 2))"
   ]
  },
  {
   "cell_type": "code",
   "execution_count": 85,
   "metadata": {},
   "outputs": [
    {
     "name": "stdout",
     "output_type": "stream",
     "text": [
      "roc_auc: 0.6766 (+/- 0.0087)\n"
     ]
    }
   ],
   "source": [
    "clf = KNeighborsClassifier(n_neighbors = 500,weights ='distance')\n",
    "scores = cross_val_score(clf, XScaled, y_label, cv=5, scoring='roc_auc')\n",
    "print(\"roc_auc: %0.4f (+/- %0.4f)\" % (scores.mean(), scores.std() * 2))"
   ]
  },
  {
   "cell_type": "code",
   "execution_count": 86,
   "metadata": {},
   "outputs": [
    {
     "name": "stdout",
     "output_type": "stream",
     "text": [
      "roc_auc: 0.6811 (+/- 0.0044)\n"
     ]
    }
   ],
   "source": [
    "clf = KNeighborsClassifier(n_neighbors = 100,weights ='distance')\n",
    "scores = cross_val_score(clf, XScaled, y_label, cv=5, scoring='roc_auc')\n",
    "print(\"roc_auc: %0.4f (+/- %0.4f)\" % (scores.mean(), scores.std() * 2))"
   ]
  },
  {
   "cell_type": "markdown",
   "metadata": {},
   "source": [
    "### Random Forest"
   ]
  },
  {
   "cell_type": "code",
   "execution_count": 87,
   "metadata": {},
   "outputs": [
    {
     "name": "stdout",
     "output_type": "stream",
     "text": [
      "roc_auc: 0.6757 (+/- 0.0091)\n"
     ]
    }
   ],
   "source": [
    "clf = RandomForestClassifier(n_estimators=10) # random forest doesn't need scaler \n",
    "scores = cross_val_score(clf, X, y_label, cv=5, scoring='roc_auc')\n",
    "print(\"roc_auc: %0.4f (+/- %0.4f)\" % (scores.mean(), scores.std() * 2))"
   ]
  },
  {
   "cell_type": "code",
   "execution_count": 88,
   "metadata": {},
   "outputs": [
    {
     "name": "stdout",
     "output_type": "stream",
     "text": [
      "roc_auc: 0.7386 (+/- 0.0121)\n"
     ]
    }
   ],
   "source": [
    "clf = RandomForestClassifier(n_estimators=50) \n",
    "scores = cross_val_score(clf, X, y_label, cv=5, scoring='roc_auc')\n",
    "print(\"roc_auc: %0.4f (+/- %0.4f)\" % (scores.mean(), scores.std() * 2))"
   ]
  },
  {
   "cell_type": "code",
   "execution_count": 89,
   "metadata": {},
   "outputs": [
    {
     "name": "stdout",
     "output_type": "stream",
     "text": [
      "roc_auc: 0.7518 (+/- 0.0097)\n"
     ]
    }
   ],
   "source": [
    "clf = RandomForestClassifier(n_estimators=100) \n",
    "scores = cross_val_score(clf, X, y_label, cv=5, scoring='roc_auc')\n",
    "print(\"roc_auc: %0.4f (+/- %0.4f)\" % (scores.mean(), scores.std() * 2))"
   ]
  },
  {
   "cell_type": "code",
   "execution_count": null,
   "metadata": {
    "collapsed": true
   },
   "outputs": [],
   "source": []
  },
  {
   "cell_type": "markdown",
   "metadata": {},
   "source": [
    "### From 5-fold cross validation, we choose Random Forest for prediction with n_estimators=100, since the roc_auc score is the highest."
   ]
  },
  {
   "cell_type": "code",
   "execution_count": 201,
   "metadata": {},
   "outputs": [
    {
     "data": {
      "text/plain": [
       "34.666670000000003"
      ]
     },
     "execution_count": 201,
     "metadata": {},
     "output_type": "execute_result"
    }
   ],
   "source": [
    "random_forest = RandomForestClassifier(n_estimators=100)\n",
    "random_forest.fit(X, y)\n",
    "Y_pred = random_forest.predict(X_test)\n",
    "acc_random_forest = round(random_forest.score(X_test, y_test) * 100, 5)\n",
    "acc_random_forest"
   ]
  },
  {
   "cell_type": "markdown",
   "metadata": {},
   "source": [
    "### Accuracy is around 34%,  it might because there are too many classes.\n",
    "\n",
    "#### Try to randomly select less classes for prediction"
   ]
  },
  {
   "cell_type": "code",
   "execution_count": 203,
   "metadata": {},
   "outputs": [
    {
     "name": "stdout",
     "output_type": "stream",
     "text": [
      "[5, 9, 8]\n"
     ]
    }
   ],
   "source": [
    "l = random.sample(range(1,13),3)# select 3 classes\n",
    "train_df_3 = train_df.loc[train_df['user'].isin(l)]\n",
    "test_df_3 = test_df.loc[test_df['user'].isin(l)]\n",
    "print(l)"
   ]
  },
  {
   "cell_type": "markdown",
   "metadata": {},
   "source": [
    "#### StandardScaler &  Minmax_scale for selected classes"
   ]
  },
  {
   "cell_type": "code",
   "execution_count": 204,
   "metadata": {
    "collapsed": true
   },
   "outputs": [],
   "source": [
    "X_3 = train_df_3.drop('user', axis=1)\n",
    "y_3 = train_df_3.user\n",
    "sScaler = StandardScaler(copy=True, with_mean=True, with_std=True)\n",
    "\n",
    "XScaled_3 = minmax_scale((sScaler.fit_transform(X_3)), feature_range=(0, 1))"
   ]
  },
  {
   "cell_type": "code",
   "execution_count": 205,
   "metadata": {
    "collapsed": true
   },
   "outputs": [],
   "source": [
    "X_test_3 = test_df_3.drop('user', axis=1)\n",
    "y_test_3 = test_df_3.user\n",
    "X_test_Scaled_3 = minmax_scale((sScaler.fit_transform(X_test_3)), feature_range=(0, 1))"
   ]
  },
  {
   "cell_type": "code",
   "execution_count": 206,
   "metadata": {
    "scrolled": true
   },
   "outputs": [
    {
     "data": {
      "text/plain": [
       "56.87285"
      ]
     },
     "execution_count": 206,
     "metadata": {},
     "output_type": "execute_result"
    }
   ],
   "source": [
    "random_forest = RandomForestClassifier(n_estimators=100)\n",
    "random_forest.fit(X_3, y_3)\n",
    "Y_pred_3 = random_forest.predict_proba(X_test_3)\n",
    "acc_random_forest = round(random_forest.score(X_test_3, y_test_3) * 100, 5)\n",
    "acc_random_forest"
   ]
  },
  {
   "cell_type": "markdown",
   "metadata": {},
   "source": [
    "# Conclusions:  \n",
    "- None of the features are very relevant for predict user.\n",
    "\n",
    "- The accuracy of our model is around 33%, about 4 times of the random classification(8%). \n",
    "\n",
    "- If decrease the classes for prediction to 3 classes, the accuracy can reach around 57%, 2 times of the random classification(33%). \n",
    "\n",
    "    "
   ]
  },
  {
   "cell_type": "code",
   "execution_count": null,
   "metadata": {
    "collapsed": true
   },
   "outputs": [],
   "source": []
  },
  {
   "cell_type": "markdown",
   "metadata": {},
   "source": [
    "## Save the predictions on the test data in csv file"
   ]
  },
  {
   "cell_type": "code",
   "execution_count": 207,
   "metadata": {
    "collapsed": true
   },
   "outputs": [],
   "source": [
    "predict_df = pd.DataFrame({'Email_ID':y_test.index, 'Gold':y_test.values, 'Prediction':Y_pred})"
   ]
  },
  {
   "cell_type": "code",
   "execution_count": 208,
   "metadata": {
    "scrolled": true
   },
   "outputs": [
    {
     "data": {
      "text/html": [
       "<div>\n",
       "<style scoped>\n",
       "    .dataframe tbody tr th:only-of-type {\n",
       "        vertical-align: middle;\n",
       "    }\n",
       "\n",
       "    .dataframe tbody tr th {\n",
       "        vertical-align: top;\n",
       "    }\n",
       "\n",
       "    .dataframe thead th {\n",
       "        text-align: right;\n",
       "    }\n",
       "</style>\n",
       "<table border=\"1\" class=\"dataframe\">\n",
       "  <thead>\n",
       "    <tr style=\"text-align: right;\">\n",
       "      <th></th>\n",
       "      <th>Email_ID</th>\n",
       "      <th>Gold</th>\n",
       "      <th>Prediction</th>\n",
       "    </tr>\n",
       "  </thead>\n",
       "  <tbody>\n",
       "    <tr>\n",
       "      <th>0</th>\n",
       "      <td>1935</td>\n",
       "      <td>2</td>\n",
       "      <td>9</td>\n",
       "    </tr>\n",
       "    <tr>\n",
       "      <th>1</th>\n",
       "      <td>6494</td>\n",
       "      <td>7</td>\n",
       "      <td>7</td>\n",
       "    </tr>\n",
       "    <tr>\n",
       "      <th>2</th>\n",
       "      <td>1720</td>\n",
       "      <td>2</td>\n",
       "      <td>8</td>\n",
       "    </tr>\n",
       "    <tr>\n",
       "      <th>3</th>\n",
       "      <td>9120</td>\n",
       "      <td>10</td>\n",
       "      <td>10</td>\n",
       "    </tr>\n",
       "    <tr>\n",
       "      <th>4</th>\n",
       "      <td>360</td>\n",
       "      <td>1</td>\n",
       "      <td>2</td>\n",
       "    </tr>\n",
       "  </tbody>\n",
       "</table>\n",
       "</div>"
      ],
      "text/plain": [
       "   Email_ID  Gold  Prediction\n",
       "0      1935     2           9\n",
       "1      6494     7           7\n",
       "2      1720     2           8\n",
       "3      9120    10          10\n",
       "4       360     1           2"
      ]
     },
     "execution_count": 208,
     "metadata": {},
     "output_type": "execute_result"
    }
   ],
   "source": [
    "predict_df.head()"
   ]
  },
  {
   "cell_type": "code",
   "execution_count": 209,
   "metadata": {},
   "outputs": [
    {
     "data": {
      "text/plain": [
       "(2400, 3)"
      ]
     },
     "execution_count": 209,
     "metadata": {},
     "output_type": "execute_result"
    }
   ],
   "source": [
    "predict_df.shape"
   ]
  },
  {
   "cell_type": "code",
   "execution_count": 210,
   "metadata": {
    "collapsed": true
   },
   "outputs": [],
   "source": [
    "# predict_df.to_csv(\"../result/predictions_test_data.csv\")"
   ]
  }
 ],
 "metadata": {
  "kernelspec": {
   "display_name": "Python 3",
   "language": "python",
   "name": "python3"
  },
  "language_info": {
   "codemirror_mode": {
    "name": "ipython",
    "version": 3
   },
   "file_extension": ".py",
   "mimetype": "text/x-python",
   "name": "python",
   "nbconvert_exporter": "python",
   "pygments_lexer": "ipython3",
   "version": "3.6.1"
  }
 },
 "nbformat": 4,
 "nbformat_minor": 2
}
